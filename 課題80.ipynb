{
  "nbformat": 4,
  "nbformat_minor": 0,
  "metadata": {
    "colab": {
      "name": "03210440_鷲見直_課題80.ipynb",
      "provenance": [],
      "authorship_tag": "ABX9TyPuvTeToFiC8sikJjQ1o3H6"
    },
    "kernelspec": {
      "name": "python3",
      "display_name": "Python 3"
    },
    "language_info": {
      "name": "python"
    }
  },
  "cells": [
    {
      "cell_type": "markdown",
      "source": [
        "# 課題80-1"
      ],
      "metadata": {
        "id": "Snkfjpd-VkQN"
      }
    },
    {
      "cell_type": "code",
      "execution_count": 86,
      "metadata": {
        "id": "LpngUJGZtfB5"
      },
      "outputs": [],
      "source": [
        "dl = [[1,2,3],[2,3,4],[5,6,7]]"
      ]
    },
    {
      "cell_type": "code",
      "source": [
        "# Python の list データを Numpy の array データに変換\n",
        "import numpy as np\n",
        "data_array = np.array(dl)\n",
        "print(data_array)"
      ],
      "metadata": {
        "colab": {
          "base_uri": "https://localhost:8080/"
        },
        "id": "B59-V22rt9a8",
        "outputId": "96b6186d-433b-41f2-b526-05a862d71ad2"
      },
      "execution_count": 87,
      "outputs": [
        {
          "output_type": "stream",
          "name": "stdout",
          "text": [
            "[[1 2 3]\n",
            " [2 3 4]\n",
            " [5 6 7]]\n"
          ]
        }
      ]
    },
    {
      "cell_type": "code",
      "source": [
        "# Python の list データを Pandas の data frame データに変換\n",
        "import pandas as pd\n",
        "data_df = pd.DataFrame(dl)\n",
        "print(data_df)"
      ],
      "metadata": {
        "colab": {
          "base_uri": "https://localhost:8080/"
        },
        "id": "7jDtXelauAMB",
        "outputId": "057a5b0d-7359-4b0f-c3cb-c0130f8b63e2"
      },
      "execution_count": 88,
      "outputs": [
        {
          "output_type": "stream",
          "name": "stdout",
          "text": [
            "   0  1  2\n",
            "0  1  2  3\n",
            "1  2  3  4\n",
            "2  5  6  7\n"
          ]
        }
      ]
    },
    {
      "cell_type": "code",
      "source": [
        "# Numpy の array データを Python の list データに変換\n",
        "data_list = data_array.tolist()\n",
        "print(data_list)"
      ],
      "metadata": {
        "colab": {
          "base_uri": "https://localhost:8080/"
        },
        "id": "7KEx21jGuPK9",
        "outputId": "10902b4c-5979-4413-911d-e3184f1200e8"
      },
      "execution_count": 89,
      "outputs": [
        {
          "output_type": "stream",
          "name": "stdout",
          "text": [
            "[[1, 2, 3], [2, 3, 4], [5, 6, 7]]\n"
          ]
        }
      ]
    },
    {
      "cell_type": "code",
      "source": [
        "# Numpy の array データを Pandas の data frame データに変換\n",
        "data_df2 = pd.DataFrame(data_array)\n",
        "print(data_df2)"
      ],
      "metadata": {
        "colab": {
          "base_uri": "https://localhost:8080/"
        },
        "id": "UtX4a_quuNJC",
        "outputId": "20bb0e61-19e6-4902-fa87-d8377a602398"
      },
      "execution_count": 90,
      "outputs": [
        {
          "output_type": "stream",
          "name": "stdout",
          "text": [
            "   0  1  2\n",
            "0  1  2  3\n",
            "1  2  3  4\n",
            "2  5  6  7\n"
          ]
        }
      ]
    },
    {
      "cell_type": "code",
      "source": [
        "# Pandas の data frame データを Python の list データに変換\n",
        "data_list2 = data_df.values.tolist()\n",
        "print(data_list)"
      ],
      "metadata": {
        "colab": {
          "base_uri": "https://localhost:8080/"
        },
        "id": "9HHDrA9IznyW",
        "outputId": "6c60c320-8717-48ff-bf3f-570499ef282c"
      },
      "execution_count": 91,
      "outputs": [
        {
          "output_type": "stream",
          "name": "stdout",
          "text": [
            "[[1, 2, 3], [2, 3, 4], [5, 6, 7]]\n"
          ]
        }
      ]
    },
    {
      "cell_type": "code",
      "source": [
        "# Pandas の data frame データを Numpy の array データに変換\n",
        "data_array2 = data_df.values\n",
        "print(data_array2)"
      ],
      "metadata": {
        "colab": {
          "base_uri": "https://localhost:8080/"
        },
        "id": "kIe4XbW40CVn",
        "outputId": "090fe1f3-e1b7-44d5-f8a4-9b9a5d1a6ed4"
      },
      "execution_count": 92,
      "outputs": [
        {
          "output_type": "stream",
          "name": "stdout",
          "text": [
            "[[1 2 3]\n",
            " [2 3 4]\n",
            " [5 6 7]]\n"
          ]
        }
      ]
    },
    {
      "cell_type": "markdown",
      "source": [
        "# 課題80-2"
      ],
      "metadata": {
        "id": "LPBC9l_3VodR"
      }
    },
    {
      "cell_type": "code",
      "source": [
        "import urllib.request \n",
        "\n",
        "url = \"https://github.com/maskot1977/ipython_notebook/blob/master/toydata/Teikoku-Shoin-Japan.xlsx?raw=true\"\n",
        "urllib.request.urlretrieve(url, 'Teikoku-Shoin-Japan.xlsx') \n",
        "\n",
        "import pandas as pd\n",
        "excel = pd.ExcelFile('Teikoku-Shoin-Japan.xlsx') "
      ],
      "metadata": {
        "id": "N12oyB6PWMWR"
      },
      "execution_count": 93,
      "outputs": []
    },
    {
      "cell_type": "code",
      "source": [
        "sheets = []\n",
        "for sheet_index in [2,77,78,83]:\n",
        "  print(excel.sheet_names[sheet_index])\n",
        "  sheet = excel.parse(excel.sheet_names[sheet_index],header = None)\n",
        "  sheets.append(sheet)"
      ],
      "metadata": {
        "colab": {
          "base_uri": "https://localhost:8080/"
        },
        "id": "ct9qhntPVhhU",
        "outputId": "87aa1724-0f78-4939-997f-80c2cfe06671"
      },
      "execution_count": 94,
      "outputs": [
        {
          "output_type": "stream",
          "name": "stdout",
          "text": [
            "人口密度　〔2018年〕\n",
            "1人あたりの都市公園面積　〔2017年3月末〕\n",
            "1人あたりの電力需要量　〔2015年〕\n",
            "公害苦情件数　〔2017年〕\n"
          ]
        }
      ]
    },
    {
      "cell_type": "code",
      "source": [
        "!pip install japanize-matplotlib"
      ],
      "metadata": {
        "colab": {
          "base_uri": "https://localhost:8080/"
        },
        "id": "eoL4X8KUZwUC",
        "outputId": "ec5d3ef0-b653-41d9-d21b-4333606e91d1"
      },
      "execution_count": 95,
      "outputs": [
        {
          "output_type": "stream",
          "name": "stdout",
          "text": [
            "Requirement already satisfied: japanize-matplotlib in /usr/local/lib/python3.7/dist-packages (1.1.3)\n",
            "Requirement already satisfied: matplotlib in /usr/local/lib/python3.7/dist-packages (from japanize-matplotlib) (3.2.2)\n",
            "Requirement already satisfied: numpy>=1.11 in /usr/local/lib/python3.7/dist-packages (from matplotlib->japanize-matplotlib) (1.19.5)\n",
            "Requirement already satisfied: python-dateutil>=2.1 in /usr/local/lib/python3.7/dist-packages (from matplotlib->japanize-matplotlib) (2.8.2)\n",
            "Requirement already satisfied: pyparsing!=2.0.4,!=2.1.2,!=2.1.6,>=2.0.1 in /usr/local/lib/python3.7/dist-packages (from matplotlib->japanize-matplotlib) (3.0.7)\n",
            "Requirement already satisfied: cycler>=0.10 in /usr/local/lib/python3.7/dist-packages (from matplotlib->japanize-matplotlib) (0.11.0)\n",
            "Requirement already satisfied: kiwisolver>=1.0.1 in /usr/local/lib/python3.7/dist-packages (from matplotlib->japanize-matplotlib) (1.3.2)\n",
            "Requirement already satisfied: six>=1.5 in /usr/local/lib/python3.7/dist-packages (from python-dateutil>=2.1->matplotlib->japanize-matplotlib) (1.15.0)\n"
          ]
        }
      ]
    },
    {
      "cell_type": "code",
      "source": [
        "# sheet0 = sheets[0].iloc[2:49,1:]\n",
        "# sheet0.columns = ['都道府県名','人口密度']\n",
        "# sheet1 = sheets[1].iloc[2:49,1:]\n",
        "# sheet1.columns = ['都道府県名','都市公園面積']\n",
        "# sheet2 = sheets[2].iloc[3:50,1:]\n",
        "# sheet2.columns = ['都道府県名','電力需要量']\n",
        "# sheet3 = sheets[3].iloc[2:49,1:]\n",
        "# sheet3.columns = ['都道府県名','公害苦情件数']\n",
        "\n",
        "sheet0 = sheets[0].iloc[2:49,1:]\n",
        "sheet0.columns = ['都道府県名','human density']\n",
        "sheet1 = sheets[1].iloc[2:49,1:]\n",
        "sheet1.columns = ['都道府県名','park area']\n",
        "sheet2 = sheets[2].iloc[3:50,1:]\n",
        "sheet2.columns = ['都道府県名','electricity']\n",
        "sheet3 = sheets[3].iloc[2:49,1:]\n",
        "sheet3.columns = ['都道府県名','complainments']"
      ],
      "metadata": {
        "id": "vsQn4WUUWpYJ"
      },
      "execution_count": 96,
      "outputs": []
    },
    {
      "cell_type": "code",
      "source": [
        "sheet01 = pd.merge(sheet0,sheet1,on= \"都道府県名\")\n",
        "sheet012 = pd.merge(sheet01,sheet2,on= \"都道府県名\")\n",
        "pd.merge(sheet012,sheet3, on = \"都道府県名\")"
      ],
      "metadata": {
        "colab": {
          "base_uri": "https://localhost:8080/",
          "height": 81
        },
        "id": "_PTA2H6fXFgo",
        "outputId": "d0fb45df-541e-4cb9-acbb-737adf3788e2"
      },
      "execution_count": 97,
      "outputs": [
        {
          "output_type": "execute_result",
          "data": {
            "text/html": [
              "\n",
              "  <div id=\"df-f7fd3e4a-7313-4ea0-afdb-be43cdf41171\">\n",
              "    <div class=\"colab-df-container\">\n",
              "      <div>\n",
              "<style scoped>\n",
              "    .dataframe tbody tr th:only-of-type {\n",
              "        vertical-align: middle;\n",
              "    }\n",
              "\n",
              "    .dataframe tbody tr th {\n",
              "        vertical-align: top;\n",
              "    }\n",
              "\n",
              "    .dataframe thead th {\n",
              "        text-align: right;\n",
              "    }\n",
              "</style>\n",
              "<table border=\"1\" class=\"dataframe\">\n",
              "  <thead>\n",
              "    <tr style=\"text-align: right;\">\n",
              "      <th></th>\n",
              "      <th>都道府県名</th>\n",
              "      <th>human density</th>\n",
              "      <th>park area</th>\n",
              "      <th>electricity</th>\n",
              "      <th>complainments</th>\n",
              "    </tr>\n",
              "  </thead>\n",
              "  <tbody>\n",
              "    <tr>\n",
              "      <th>0</th>\n",
              "      <td>北海道</td>\n",
              "      <td>64</td>\n",
              "      <td>38.8</td>\n",
              "      <td>2521</td>\n",
              "      <td>1454</td>\n",
              "    </tr>\n",
              "  </tbody>\n",
              "</table>\n",
              "</div>\n",
              "      <button class=\"colab-df-convert\" onclick=\"convertToInteractive('df-f7fd3e4a-7313-4ea0-afdb-be43cdf41171')\"\n",
              "              title=\"Convert this dataframe to an interactive table.\"\n",
              "              style=\"display:none;\">\n",
              "        \n",
              "  <svg xmlns=\"http://www.w3.org/2000/svg\" height=\"24px\"viewBox=\"0 0 24 24\"\n",
              "       width=\"24px\">\n",
              "    <path d=\"M0 0h24v24H0V0z\" fill=\"none\"/>\n",
              "    <path d=\"M18.56 5.44l.94 2.06.94-2.06 2.06-.94-2.06-.94-.94-2.06-.94 2.06-2.06.94zm-11 1L8.5 8.5l.94-2.06 2.06-.94-2.06-.94L8.5 2.5l-.94 2.06-2.06.94zm10 10l.94 2.06.94-2.06 2.06-.94-2.06-.94-.94-2.06-.94 2.06-2.06.94z\"/><path d=\"M17.41 7.96l-1.37-1.37c-.4-.4-.92-.59-1.43-.59-.52 0-1.04.2-1.43.59L10.3 9.45l-7.72 7.72c-.78.78-.78 2.05 0 2.83L4 21.41c.39.39.9.59 1.41.59.51 0 1.02-.2 1.41-.59l7.78-7.78 2.81-2.81c.8-.78.8-2.07 0-2.86zM5.41 20L4 18.59l7.72-7.72 1.47 1.35L5.41 20z\"/>\n",
              "  </svg>\n",
              "      </button>\n",
              "      \n",
              "  <style>\n",
              "    .colab-df-container {\n",
              "      display:flex;\n",
              "      flex-wrap:wrap;\n",
              "      gap: 12px;\n",
              "    }\n",
              "\n",
              "    .colab-df-convert {\n",
              "      background-color: #E8F0FE;\n",
              "      border: none;\n",
              "      border-radius: 50%;\n",
              "      cursor: pointer;\n",
              "      display: none;\n",
              "      fill: #1967D2;\n",
              "      height: 32px;\n",
              "      padding: 0 0 0 0;\n",
              "      width: 32px;\n",
              "    }\n",
              "\n",
              "    .colab-df-convert:hover {\n",
              "      background-color: #E2EBFA;\n",
              "      box-shadow: 0px 1px 2px rgba(60, 64, 67, 0.3), 0px 1px 3px 1px rgba(60, 64, 67, 0.15);\n",
              "      fill: #174EA6;\n",
              "    }\n",
              "\n",
              "    [theme=dark] .colab-df-convert {\n",
              "      background-color: #3B4455;\n",
              "      fill: #D2E3FC;\n",
              "    }\n",
              "\n",
              "    [theme=dark] .colab-df-convert:hover {\n",
              "      background-color: #434B5C;\n",
              "      box-shadow: 0px 1px 3px 1px rgba(0, 0, 0, 0.15);\n",
              "      filter: drop-shadow(0px 1px 2px rgba(0, 0, 0, 0.3));\n",
              "      fill: #FFFFFF;\n",
              "    }\n",
              "  </style>\n",
              "\n",
              "      <script>\n",
              "        const buttonEl =\n",
              "          document.querySelector('#df-f7fd3e4a-7313-4ea0-afdb-be43cdf41171 button.colab-df-convert');\n",
              "        buttonEl.style.display =\n",
              "          google.colab.kernel.accessAllowed ? 'block' : 'none';\n",
              "\n",
              "        async function convertToInteractive(key) {\n",
              "          const element = document.querySelector('#df-f7fd3e4a-7313-4ea0-afdb-be43cdf41171');\n",
              "          const dataTable =\n",
              "            await google.colab.kernel.invokeFunction('convertToInteractive',\n",
              "                                                     [key], {});\n",
              "          if (!dataTable) return;\n",
              "\n",
              "          const docLinkHtml = 'Like what you see? Visit the ' +\n",
              "            '<a target=\"_blank\" href=https://colab.research.google.com/notebooks/data_table.ipynb>data table notebook</a>'\n",
              "            + ' to learn more about interactive tables.';\n",
              "          element.innerHTML = '';\n",
              "          dataTable['output_type'] = 'display_data';\n",
              "          await google.colab.output.renderOutput(dataTable, element);\n",
              "          const docLink = document.createElement('div');\n",
              "          docLink.innerHTML = docLinkHtml;\n",
              "          element.appendChild(docLink);\n",
              "        }\n",
              "      </script>\n",
              "    </div>\n",
              "  </div>\n",
              "  "
            ],
            "text/plain": [
              "  都道府県名 human density park area electricity complainments\n",
              "0   北海道            64      38.8        2521          1454"
            ]
          },
          "metadata": {},
          "execution_count": 97
        }
      ]
    },
    {
      "cell_type": "code",
      "source": [
        "sheet0123 = pd.concat([sheet012,sheet3.reset_index()],axis = 1)\n",
        "sheet0123 = sheet0123.iloc[:,[0,1,2,3,6]]\n",
        "sheet0123"
      ],
      "metadata": {
        "colab": {
          "base_uri": "https://localhost:8080/",
          "height": 1000
        },
        "id": "K7DBj-pwYsAO",
        "outputId": "5c13b612-0220-4b90-f3f5-9db87cac8945"
      },
      "execution_count": 98,
      "outputs": [
        {
          "output_type": "execute_result",
          "data": {
            "text/html": [
              "\n",
              "  <div id=\"df-b6d6416e-0292-464e-9faa-02499aef1195\">\n",
              "    <div class=\"colab-df-container\">\n",
              "      <div>\n",
              "<style scoped>\n",
              "    .dataframe tbody tr th:only-of-type {\n",
              "        vertical-align: middle;\n",
              "    }\n",
              "\n",
              "    .dataframe tbody tr th {\n",
              "        vertical-align: top;\n",
              "    }\n",
              "\n",
              "    .dataframe thead th {\n",
              "        text-align: right;\n",
              "    }\n",
              "</style>\n",
              "<table border=\"1\" class=\"dataframe\">\n",
              "  <thead>\n",
              "    <tr style=\"text-align: right;\">\n",
              "      <th></th>\n",
              "      <th>都道府県名</th>\n",
              "      <th>human density</th>\n",
              "      <th>park area</th>\n",
              "      <th>electricity</th>\n",
              "      <th>complainments</th>\n",
              "    </tr>\n",
              "  </thead>\n",
              "  <tbody>\n",
              "    <tr>\n",
              "      <th>0</th>\n",
              "      <td>北海道</td>\n",
              "      <td>64</td>\n",
              "      <td>38.8</td>\n",
              "      <td>2521</td>\n",
              "      <td>1454</td>\n",
              "    </tr>\n",
              "    <tr>\n",
              "      <th>1</th>\n",
              "      <td>青森</td>\n",
              "      <td>136</td>\n",
              "      <td>18</td>\n",
              "      <td>2378</td>\n",
              "      <td>431</td>\n",
              "    </tr>\n",
              "    <tr>\n",
              "      <th>2</th>\n",
              "      <td>岩手</td>\n",
              "      <td>83</td>\n",
              "      <td>14.7</td>\n",
              "      <td>2521</td>\n",
              "      <td>522</td>\n",
              "    </tr>\n",
              "    <tr>\n",
              "      <th>3</th>\n",
              "      <td>宮城</td>\n",
              "      <td>317</td>\n",
              "      <td>23.5</td>\n",
              "      <td>2385</td>\n",
              "      <td>586</td>\n",
              "    </tr>\n",
              "    <tr>\n",
              "      <th>4</th>\n",
              "      <td>秋田</td>\n",
              "      <td>87</td>\n",
              "      <td>21.6</td>\n",
              "      <td>2487</td>\n",
              "      <td>355</td>\n",
              "    </tr>\n",
              "    <tr>\n",
              "      <th>5</th>\n",
              "      <td>山形</td>\n",
              "      <td>119</td>\n",
              "      <td>20.1</td>\n",
              "      <td>2528</td>\n",
              "      <td>702</td>\n",
              "    </tr>\n",
              "    <tr>\n",
              "      <th>6</th>\n",
              "      <td>福島</td>\n",
              "      <td>139</td>\n",
              "      <td>13.1</td>\n",
              "      <td>2382</td>\n",
              "      <td>582</td>\n",
              "    </tr>\n",
              "    <tr>\n",
              "      <th>7</th>\n",
              "      <td>茨城</td>\n",
              "      <td>484</td>\n",
              "      <td>9.6</td>\n",
              "      <td>2363</td>\n",
              "      <td>3652</td>\n",
              "    </tr>\n",
              "    <tr>\n",
              "      <th>8</th>\n",
              "      <td>栃木</td>\n",
              "      <td>310</td>\n",
              "      <td>14.4</td>\n",
              "      <td>2461</td>\n",
              "      <td>1458</td>\n",
              "    </tr>\n",
              "    <tr>\n",
              "      <th>9</th>\n",
              "      <td>群馬</td>\n",
              "      <td>313</td>\n",
              "      <td>14.2</td>\n",
              "      <td>2455</td>\n",
              "      <td>1277</td>\n",
              "    </tr>\n",
              "    <tr>\n",
              "      <th>10</th>\n",
              "      <td>埼玉</td>\n",
              "      <td>1939</td>\n",
              "      <td>7.3</td>\n",
              "      <td>2092</td>\n",
              "      <td>3431</td>\n",
              "    </tr>\n",
              "    <tr>\n",
              "      <th>11</th>\n",
              "      <td>千葉</td>\n",
              "      <td>1221</td>\n",
              "      <td>6.3</td>\n",
              "      <td>2104</td>\n",
              "      <td>4572</td>\n",
              "    </tr>\n",
              "    <tr>\n",
              "      <th>12</th>\n",
              "      <td>東京</td>\n",
              "      <td>6216</td>\n",
              "      <td>7.4</td>\n",
              "      <td>2322</td>\n",
              "      <td>6402</td>\n",
              "    </tr>\n",
              "    <tr>\n",
              "      <th>13</th>\n",
              "      <td>神奈川</td>\n",
              "      <td>3796</td>\n",
              "      <td>7</td>\n",
              "      <td>2026</td>\n",
              "      <td>2746</td>\n",
              "    </tr>\n",
              "    <tr>\n",
              "      <th>14</th>\n",
              "      <td>新潟</td>\n",
              "      <td>181</td>\n",
              "      <td>17.3</td>\n",
              "      <td>2470</td>\n",
              "      <td>1007</td>\n",
              "    </tr>\n",
              "    <tr>\n",
              "      <th>15</th>\n",
              "      <td>富山</td>\n",
              "      <td>252</td>\n",
              "      <td>15.3</td>\n",
              "      <td>3133</td>\n",
              "      <td>175</td>\n",
              "    </tr>\n",
              "    <tr>\n",
              "      <th>16</th>\n",
              "      <td>石川</td>\n",
              "      <td>275</td>\n",
              "      <td>14.4</td>\n",
              "      <td>3166</td>\n",
              "      <td>390</td>\n",
              "    </tr>\n",
              "    <tr>\n",
              "      <th>17</th>\n",
              "      <td>福井</td>\n",
              "      <td>189</td>\n",
              "      <td>16.8</td>\n",
              "      <td>3263</td>\n",
              "      <td>599</td>\n",
              "    </tr>\n",
              "    <tr>\n",
              "      <th>18</th>\n",
              "      <td>山梨</td>\n",
              "      <td>188</td>\n",
              "      <td>10.9</td>\n",
              "      <td>2595</td>\n",
              "      <td>679</td>\n",
              "    </tr>\n",
              "    <tr>\n",
              "      <th>19</th>\n",
              "      <td>長野</td>\n",
              "      <td>156</td>\n",
              "      <td>14.8</td>\n",
              "      <td>2620</td>\n",
              "      <td>1891</td>\n",
              "    </tr>\n",
              "    <tr>\n",
              "      <th>20</th>\n",
              "      <td>岐阜</td>\n",
              "      <td>193</td>\n",
              "      <td>10.8</td>\n",
              "      <td>2530</td>\n",
              "      <td>1493</td>\n",
              "    </tr>\n",
              "    <tr>\n",
              "      <th>21</th>\n",
              "      <td>静岡</td>\n",
              "      <td>481</td>\n",
              "      <td>9.5</td>\n",
              "      <td>2414</td>\n",
              "      <td>2202</td>\n",
              "    </tr>\n",
              "    <tr>\n",
              "      <th>22</th>\n",
              "      <td>愛知</td>\n",
              "      <td>1460</td>\n",
              "      <td>8</td>\n",
              "      <td>2369</td>\n",
              "      <td>5574</td>\n",
              "    </tr>\n",
              "    <tr>\n",
              "      <th>23</th>\n",
              "      <td>三重</td>\n",
              "      <td>318</td>\n",
              "      <td>10.2</td>\n",
              "      <td>2588</td>\n",
              "      <td>1236</td>\n",
              "    </tr>\n",
              "    <tr>\n",
              "      <th>24</th>\n",
              "      <td>滋賀</td>\n",
              "      <td>353</td>\n",
              "      <td>9.2</td>\n",
              "      <td>2564</td>\n",
              "      <td>816</td>\n",
              "    </tr>\n",
              "    <tr>\n",
              "      <th>25</th>\n",
              "      <td>京都</td>\n",
              "      <td>556</td>\n",
              "      <td>12.5</td>\n",
              "      <td>2580</td>\n",
              "      <td>1658</td>\n",
              "    </tr>\n",
              "    <tr>\n",
              "      <th>26</th>\n",
              "      <td>大阪</td>\n",
              "      <td>4649</td>\n",
              "      <td>5.7</td>\n",
              "      <td>2321</td>\n",
              "      <td>4326</td>\n",
              "    </tr>\n",
              "    <tr>\n",
              "      <th>27</th>\n",
              "      <td>兵庫</td>\n",
              "      <td>665</td>\n",
              "      <td>11.1</td>\n",
              "      <td>2366</td>\n",
              "      <td>2261</td>\n",
              "    </tr>\n",
              "    <tr>\n",
              "      <th>28</th>\n",
              "      <td>奈良</td>\n",
              "      <td>372</td>\n",
              "      <td>13.1</td>\n",
              "      <td>2402</td>\n",
              "      <td>785</td>\n",
              "    </tr>\n",
              "    <tr>\n",
              "      <th>29</th>\n",
              "      <td>和歌山</td>\n",
              "      <td>206</td>\n",
              "      <td>8.5</td>\n",
              "      <td>2869</td>\n",
              "      <td>796</td>\n",
              "    </tr>\n",
              "    <tr>\n",
              "      <th>30</th>\n",
              "      <td>鳥取</td>\n",
              "      <td>163</td>\n",
              "      <td>13.8</td>\n",
              "      <td>2727</td>\n",
              "      <td>371</td>\n",
              "    </tr>\n",
              "    <tr>\n",
              "      <th>31</th>\n",
              "      <td>島根</td>\n",
              "      <td>103</td>\n",
              "      <td>20.2</td>\n",
              "      <td>2851</td>\n",
              "      <td>290</td>\n",
              "    </tr>\n",
              "    <tr>\n",
              "      <th>32</th>\n",
              "      <td>岡山</td>\n",
              "      <td>270</td>\n",
              "      <td>16.3</td>\n",
              "      <td>2722</td>\n",
              "      <td>866</td>\n",
              "    </tr>\n",
              "    <tr>\n",
              "      <th>33</th>\n",
              "      <td>広島</td>\n",
              "      <td>336</td>\n",
              "      <td>14.4</td>\n",
              "      <td>2648</td>\n",
              "      <td>1205</td>\n",
              "    </tr>\n",
              "    <tr>\n",
              "      <th>34</th>\n",
              "      <td>山口</td>\n",
              "      <td>228</td>\n",
              "      <td>14.9</td>\n",
              "      <td>2647</td>\n",
              "      <td>687</td>\n",
              "    </tr>\n",
              "    <tr>\n",
              "      <th>35</th>\n",
              "      <td>徳島</td>\n",
              "      <td>183</td>\n",
              "      <td>9.8</td>\n",
              "      <td>2885</td>\n",
              "      <td>473</td>\n",
              "    </tr>\n",
              "    <tr>\n",
              "      <th>36</th>\n",
              "      <td>香川</td>\n",
              "      <td>529</td>\n",
              "      <td>18.9</td>\n",
              "      <td>2801</td>\n",
              "      <td>374</td>\n",
              "    </tr>\n",
              "    <tr>\n",
              "      <th>37</th>\n",
              "      <td>愛媛</td>\n",
              "      <td>246</td>\n",
              "      <td>12.6</td>\n",
              "      <td>2680</td>\n",
              "      <td>820</td>\n",
              "    </tr>\n",
              "    <tr>\n",
              "      <th>38</th>\n",
              "      <td>高知</td>\n",
              "      <td>102</td>\n",
              "      <td>11.6</td>\n",
              "      <td>2807</td>\n",
              "      <td>296</td>\n",
              "    </tr>\n",
              "    <tr>\n",
              "      <th>39</th>\n",
              "      <td>福岡</td>\n",
              "      <td>1029</td>\n",
              "      <td>9.1</td>\n",
              "      <td>2494</td>\n",
              "      <td>2961</td>\n",
              "    </tr>\n",
              "    <tr>\n",
              "      <th>40</th>\n",
              "      <td>佐賀</td>\n",
              "      <td>341</td>\n",
              "      <td>11.8</td>\n",
              "      <td>2680</td>\n",
              "      <td>339</td>\n",
              "    </tr>\n",
              "    <tr>\n",
              "      <th>41</th>\n",
              "      <td>長崎</td>\n",
              "      <td>334</td>\n",
              "      <td>13.9</td>\n",
              "      <td>2577</td>\n",
              "      <td>953</td>\n",
              "    </tr>\n",
              "    <tr>\n",
              "      <th>42</th>\n",
              "      <td>熊本</td>\n",
              "      <td>241</td>\n",
              "      <td>10.4</td>\n",
              "      <td>2499</td>\n",
              "      <td>777</td>\n",
              "    </tr>\n",
              "    <tr>\n",
              "      <th>43</th>\n",
              "      <td>大分</td>\n",
              "      <td>184</td>\n",
              "      <td>13.3</td>\n",
              "      <td>2733</td>\n",
              "      <td>795</td>\n",
              "    </tr>\n",
              "    <tr>\n",
              "      <th>44</th>\n",
              "      <td>宮崎</td>\n",
              "      <td>144</td>\n",
              "      <td>21.9</td>\n",
              "      <td>2641</td>\n",
              "      <td>1061</td>\n",
              "    </tr>\n",
              "    <tr>\n",
              "      <th>45</th>\n",
              "      <td>鹿児島</td>\n",
              "      <td>180</td>\n",
              "      <td>14</td>\n",
              "      <td>2638</td>\n",
              "      <td>953</td>\n",
              "    </tr>\n",
              "    <tr>\n",
              "      <th>46</th>\n",
              "      <td>沖縄</td>\n",
              "      <td>645</td>\n",
              "      <td>10.9</td>\n",
              "      <td>3209</td>\n",
              "      <td>836</td>\n",
              "    </tr>\n",
              "  </tbody>\n",
              "</table>\n",
              "</div>\n",
              "      <button class=\"colab-df-convert\" onclick=\"convertToInteractive('df-b6d6416e-0292-464e-9faa-02499aef1195')\"\n",
              "              title=\"Convert this dataframe to an interactive table.\"\n",
              "              style=\"display:none;\">\n",
              "        \n",
              "  <svg xmlns=\"http://www.w3.org/2000/svg\" height=\"24px\"viewBox=\"0 0 24 24\"\n",
              "       width=\"24px\">\n",
              "    <path d=\"M0 0h24v24H0V0z\" fill=\"none\"/>\n",
              "    <path d=\"M18.56 5.44l.94 2.06.94-2.06 2.06-.94-2.06-.94-.94-2.06-.94 2.06-2.06.94zm-11 1L8.5 8.5l.94-2.06 2.06-.94-2.06-.94L8.5 2.5l-.94 2.06-2.06.94zm10 10l.94 2.06.94-2.06 2.06-.94-2.06-.94-.94-2.06-.94 2.06-2.06.94z\"/><path d=\"M17.41 7.96l-1.37-1.37c-.4-.4-.92-.59-1.43-.59-.52 0-1.04.2-1.43.59L10.3 9.45l-7.72 7.72c-.78.78-.78 2.05 0 2.83L4 21.41c.39.39.9.59 1.41.59.51 0 1.02-.2 1.41-.59l7.78-7.78 2.81-2.81c.8-.78.8-2.07 0-2.86zM5.41 20L4 18.59l7.72-7.72 1.47 1.35L5.41 20z\"/>\n",
              "  </svg>\n",
              "      </button>\n",
              "      \n",
              "  <style>\n",
              "    .colab-df-container {\n",
              "      display:flex;\n",
              "      flex-wrap:wrap;\n",
              "      gap: 12px;\n",
              "    }\n",
              "\n",
              "    .colab-df-convert {\n",
              "      background-color: #E8F0FE;\n",
              "      border: none;\n",
              "      border-radius: 50%;\n",
              "      cursor: pointer;\n",
              "      display: none;\n",
              "      fill: #1967D2;\n",
              "      height: 32px;\n",
              "      padding: 0 0 0 0;\n",
              "      width: 32px;\n",
              "    }\n",
              "\n",
              "    .colab-df-convert:hover {\n",
              "      background-color: #E2EBFA;\n",
              "      box-shadow: 0px 1px 2px rgba(60, 64, 67, 0.3), 0px 1px 3px 1px rgba(60, 64, 67, 0.15);\n",
              "      fill: #174EA6;\n",
              "    }\n",
              "\n",
              "    [theme=dark] .colab-df-convert {\n",
              "      background-color: #3B4455;\n",
              "      fill: #D2E3FC;\n",
              "    }\n",
              "\n",
              "    [theme=dark] .colab-df-convert:hover {\n",
              "      background-color: #434B5C;\n",
              "      box-shadow: 0px 1px 3px 1px rgba(0, 0, 0, 0.15);\n",
              "      filter: drop-shadow(0px 1px 2px rgba(0, 0, 0, 0.3));\n",
              "      fill: #FFFFFF;\n",
              "    }\n",
              "  </style>\n",
              "\n",
              "      <script>\n",
              "        const buttonEl =\n",
              "          document.querySelector('#df-b6d6416e-0292-464e-9faa-02499aef1195 button.colab-df-convert');\n",
              "        buttonEl.style.display =\n",
              "          google.colab.kernel.accessAllowed ? 'block' : 'none';\n",
              "\n",
              "        async function convertToInteractive(key) {\n",
              "          const element = document.querySelector('#df-b6d6416e-0292-464e-9faa-02499aef1195');\n",
              "          const dataTable =\n",
              "            await google.colab.kernel.invokeFunction('convertToInteractive',\n",
              "                                                     [key], {});\n",
              "          if (!dataTable) return;\n",
              "\n",
              "          const docLinkHtml = 'Like what you see? Visit the ' +\n",
              "            '<a target=\"_blank\" href=https://colab.research.google.com/notebooks/data_table.ipynb>data table notebook</a>'\n",
              "            + ' to learn more about interactive tables.';\n",
              "          element.innerHTML = '';\n",
              "          dataTable['output_type'] = 'display_data';\n",
              "          await google.colab.output.renderOutput(dataTable, element);\n",
              "          const docLink = document.createElement('div');\n",
              "          docLink.innerHTML = docLinkHtml;\n",
              "          element.appendChild(docLink);\n",
              "        }\n",
              "      </script>\n",
              "    </div>\n",
              "  </div>\n",
              "  "
            ],
            "text/plain": [
              "   都道府県名 human density park area electricity complainments\n",
              "0    北海道            64      38.8        2521          1454\n",
              "1     青森           136        18        2378           431\n",
              "2     岩手            83      14.7        2521           522\n",
              "3     宮城           317      23.5        2385           586\n",
              "4     秋田            87      21.6        2487           355\n",
              "5     山形           119      20.1        2528           702\n",
              "6     福島           139      13.1        2382           582\n",
              "7     茨城           484       9.6        2363          3652\n",
              "8     栃木           310      14.4        2461          1458\n",
              "9     群馬           313      14.2        2455          1277\n",
              "10    埼玉          1939       7.3        2092          3431\n",
              "11    千葉          1221       6.3        2104          4572\n",
              "12    東京          6216       7.4        2322          6402\n",
              "13   神奈川          3796         7        2026          2746\n",
              "14    新潟           181      17.3        2470          1007\n",
              "15    富山           252      15.3        3133           175\n",
              "16    石川           275      14.4        3166           390\n",
              "17    福井           189      16.8        3263           599\n",
              "18    山梨           188      10.9        2595           679\n",
              "19    長野           156      14.8        2620          1891\n",
              "20    岐阜           193      10.8        2530          1493\n",
              "21    静岡           481       9.5        2414          2202\n",
              "22    愛知          1460         8        2369          5574\n",
              "23    三重           318      10.2        2588          1236\n",
              "24    滋賀           353       9.2        2564           816\n",
              "25    京都           556      12.5        2580          1658\n",
              "26    大阪          4649       5.7        2321          4326\n",
              "27    兵庫           665      11.1        2366          2261\n",
              "28    奈良           372      13.1        2402           785\n",
              "29   和歌山           206       8.5        2869           796\n",
              "30    鳥取           163      13.8        2727           371\n",
              "31    島根           103      20.2        2851           290\n",
              "32    岡山           270      16.3        2722           866\n",
              "33    広島           336      14.4        2648          1205\n",
              "34    山口           228      14.9        2647           687\n",
              "35    徳島           183       9.8        2885           473\n",
              "36    香川           529      18.9        2801           374\n",
              "37    愛媛           246      12.6        2680           820\n",
              "38    高知           102      11.6        2807           296\n",
              "39    福岡          1029       9.1        2494          2961\n",
              "40    佐賀           341      11.8        2680           339\n",
              "41    長崎           334      13.9        2577           953\n",
              "42    熊本           241      10.4        2499           777\n",
              "43    大分           184      13.3        2733           795\n",
              "44    宮崎           144      21.9        2641          1061\n",
              "45   鹿児島           180        14        2638           953\n",
              "46    沖縄           645      10.9        3209           836"
            ]
          },
          "metadata": {},
          "execution_count": 98
        }
      ]
    },
    {
      "cell_type": "code",
      "source": [
        "from pandas import plotting\n",
        "sheet0123 = sheet0123.iloc[:,1:].astype(np.float)\n",
        "plotting.scatter_matrix(sheet0123,figsize = (8,8))\n"
      ],
      "metadata": {
        "colab": {
          "base_uri": "https://localhost:8080/",
          "height": 802
        },
        "id": "xoPP7TM6ZNj2",
        "outputId": "4bd110c3-8791-4673-e383-706958a1a208"
      },
      "execution_count": 99,
      "outputs": [
        {
          "output_type": "execute_result",
          "data": {
            "text/plain": [
              "array([[<matplotlib.axes._subplots.AxesSubplot object at 0x7fc973d0eb50>,\n",
              "        <matplotlib.axes._subplots.AxesSubplot object at 0x7fc973cfd090>,\n",
              "        <matplotlib.axes._subplots.AxesSubplot object at 0x7fc973c6ce10>,\n",
              "        <matplotlib.axes._subplots.AxesSubplot object at 0x7fc973ca6450>],\n",
              "       [<matplotlib.axes._subplots.AxesSubplot object at 0x7fc973c59950>,\n",
              "        <matplotlib.axes._subplots.AxesSubplot object at 0x7fc973c0e850>,\n",
              "        <matplotlib.axes._subplots.AxesSubplot object at 0x7fc973bc5ed0>,\n",
              "        <matplotlib.axes._subplots.AxesSubplot object at 0x7fc973b87450>],\n",
              "       [<matplotlib.axes._subplots.AxesSubplot object at 0x7fc973b87490>,\n",
              "        <matplotlib.axes._subplots.AxesSubplot object at 0x7fc973b470d0>,\n",
              "        <matplotlib.axes._subplots.AxesSubplot object at 0x7fc973ab29d0>,\n",
              "        <matplotlib.axes._subplots.AxesSubplot object at 0x7fc973ae6ed0>],\n",
              "       [<matplotlib.axes._subplots.AxesSubplot object at 0x7fc973a2a410>,\n",
              "        <matplotlib.axes._subplots.AxesSubplot object at 0x7fc973a60910>,\n",
              "        <matplotlib.axes._subplots.AxesSubplot object at 0x7fc973a16e10>,\n",
              "        <matplotlib.axes._subplots.AxesSubplot object at 0x7fc9739d7350>]],\n",
              "      dtype=object)"
            ]
          },
          "metadata": {},
          "execution_count": 99
        },
        {
          "output_type": "display_data",
          "data": {
            "image/png": "[encoded data removed]",
            "text/plain": [
              "<Figure size 576x576 with 16 Axes>"
            ]
          },
          "metadata": {
            "needs_background": "light"
          }
        }
      ]
    },
    {
      "cell_type": "markdown",
      "source": [
        "# 考察\n",
        "\n",
        "都市公園面積、電力需要量に対して、苦情件数は負の相関があるように見える。これは、都市公園面積や電力需要量が十分にあるような豊かな県では、県民の満足度は高く、苦情をいう人が少ないのではないか。また人口密度が小さいほど、苦情の件数は少ない傾向があり、これも人口密度が小さい方が人同士の接触が減り、苦情を言うことも少なくなるのではないか、と推察される。"
      ],
      "metadata": {
        "id": "6_WmlWIKpdaw"
      }
    }
  ]
}